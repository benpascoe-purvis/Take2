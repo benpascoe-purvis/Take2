{
 "cells": [
  {
   "cell_type": "code",
   "execution_count": 6,
   "metadata": {},
   "outputs": [],
   "source": [
    "from Scraper import DepopScraper\n",
    "import json "
   ]
  },
  {
   "cell_type": "code",
   "execution_count": 11,
   "metadata": {},
   "outputs": [],
   "source": [
    "item_colour = \"pink\"\n",
    "\n",
    "A = DepopScraper(brand=None, size=None, price=None, colour=item_colour)\n",
    "resp = A.filtered_items.T.to_json()\n",
    "resp = json.loads(resp)\n"
   ]
  },
  {
   "cell_type": "code",
   "execution_count": 9,
   "metadata": {},
   "outputs": [
    {
     "data": {
      "text/plain": [
       "{'0': {'item_link': 'https://www.depop.com/products/jordanrebbeck-asta-resort-delilah-mini-in/',\n",
       "  'item_name': \"Women's Pink Dress\",\n",
       "  'item_pic_url': 'https://assets.depop.com/web/assets/meganav/au/mobile/sweatshirt.webp',\n",
       "  'item_price': 'A$160.00',\n",
       "  'item_size': 'Pink'},\n",
       " '1': {'item_link': 'https://www.depop.com/products/jessiburton-tigermist-set-pink-xs-top/',\n",
       "  'item_name': \"Women's Pink Dress\",\n",
       "  'item_pic_url': 'https://assets.depop.com/web/assets/meganav/au/mobile/sweatshirt.webp',\n",
       "  'item_price': 'A$70.00',\n",
       "  'item_size': 'XS'},\n",
       " '2': {'item_link': 'https://www.depop.com/products/briannathrossell-issy-seaside-dress-in-palm/',\n",
       "  'item_name': \"Women's Pink Dress\",\n",
       "  'item_pic_url': 'https://assets.depop.com/web/assets/meganav/au/mobile/sweatshirt.webp',\n",
       "  'item_price': 'A$200.00',\n",
       "  'item_size': '10'}}"
      ]
     },
     "execution_count": 9,
     "metadata": {},
     "output_type": "execute_result"
    }
   ],
   "source": [
    "resp"
   ]
  },
  {
   "cell_type": "code",
   "execution_count": 18,
   "metadata": {},
   "outputs": [
    {
     "data": {
      "text/plain": [
       "'https://www.depop.com/category/womens/dresses/?categories=11&colours=pink'"
      ]
     },
     "execution_count": 18,
     "metadata": {},
     "output_type": "execute_result"
    }
   ],
   "source": [
    "A.URL"
   ]
  },
  {
   "cell_type": "code",
   "execution_count": 17,
   "metadata": {},
   "outputs": [
    {
     "data": {
      "text/plain": [
       "[<img alt=\"Sweatshirts\" class=\"sc-gktrKs hfVRUZ\" loading=\"lazy\" src=\"https://assets.depop.com/web/assets/meganav/au/sweatshirt.webp\"/>,\n",
       " <img alt=\"Sweatshirts\" class=\"sc-gktrKs hfVRUZ\" loading=\"lazy\" src=\"https://assets.depop.com/web/assets/meganav/au/mobile/sweatshirt.webp\"/>,\n",
       " <img alt=\"Bags\" class=\"sc-gktrKs hfVRUZ\" loading=\"lazy\" src=\"https://assets.depop.com/web/assets/meganav/au/mens_bags.webp\"/>,\n",
       " <img alt=\"Bags\" class=\"sc-gktrKs hfVRUZ\" loading=\"lazy\" src=\"https://assets.depop.com/web/assets/meganav/au/mobile/mens_bags.webp\"/>,\n",
       " <img alt=\"Jeans\" class=\"sc-gktrKs hfVRUZ\" loading=\"lazy\" src=\"https://assets.depop.com/web/assets/meganav/au/womens_jeans.webp\"/>,\n",
       " <img alt=\"Jeans\" class=\"sc-gktrKs hfVRUZ\" loading=\"lazy\" src=\"https://assets.depop.com/web/assets/meganav/au/mobile/womens_jeans.webp\"/>,\n",
       " <img alt=\"Sandals\" class=\"sc-gktrKs hfVRUZ\" loading=\"lazy\" src=\"https://assets.depop.com/web/assets/meganav/au/womens_sandals.webp\"/>,\n",
       " <img alt=\"Sandals\" class=\"sc-gktrKs hfVRUZ\" loading=\"lazy\" src=\"https://assets.depop.com/web/assets/meganav/au/mobile/womens_sandals.webp\"/>,\n",
       " <img alt=\"Zimmermann\" class=\"sc-gktrKs hfVRUZ\" loading=\"lazy\" src=\"https://assets.depop.com/web/assets/meganav/au/zimmermann.webp\"/>,\n",
       " <img alt=\"Zimmermann\" class=\"sc-gktrKs hfVRUZ\" loading=\"lazy\" src=\"https://assets.depop.com/web/assets/meganav/au/mobile/zimmermann.webp\"/>,\n",
       " <img alt=\"Quiksilver\" class=\"sc-gktrKs hfVRUZ\" loading=\"lazy\" src=\"https://assets.depop.com/web/assets/meganav/au/quiksliver.webp\"/>,\n",
       " <img alt=\"Quiksilver\" class=\"sc-gktrKs hfVRUZ\" loading=\"lazy\" src=\"https://assets.depop.com/web/assets/meganav/au/mobile/quiksliver.webp\"/>,\n",
       " <img alt=\"Under A$100\" class=\"sc-gktrKs hfVRUZ\" loading=\"lazy\" src=\"https://assets.depop.com/web/assets/meganav/au/sale_100_au.webp\"/>,\n",
       " <img alt=\"Under A$100\" class=\"sc-gktrKs hfVRUZ\" loading=\"lazy\" src=\"https://assets.depop.com/web/assets/meganav/au/sale_100_au.webp\"/>,\n",
       " <img alt=\"Under A$50\" class=\"sc-gktrKs hfVRUZ\" loading=\"lazy\" src=\"https://assets.depop.com/web/assets/meganav/au/sale_50_au.webp\"/>,\n",
       " <img alt=\"Under A$50\" class=\"sc-gktrKs hfVRUZ\" loading=\"lazy\" src=\"https://assets.depop.com/web/assets/meganav/au/sale_50_au.webp\"/>,\n",
       " <img alt=\"Under A$20\" class=\"sc-gktrKs hfVRUZ\" loading=\"lazy\" src=\"https://assets.depop.com/web/assets/meganav/au/sale_20_au.webp\"/>,\n",
       " <img alt=\"Under A$20\" class=\"sc-gktrKs hfVRUZ\" loading=\"lazy\" src=\"https://assets.depop.com/web/assets/meganav/au/sale_20_au.webp\"/>,\n",
       " <img alt=\"Under A$10\" class=\"sc-gktrKs hfVRUZ\" loading=\"lazy\" src=\"https://assets.depop.com/web/assets/meganav/au/sale_10_au.webp\"/>,\n",
       " <img alt=\"Under A$10\" class=\"sc-gktrKs hfVRUZ\" loading=\"lazy\" src=\"https://assets.depop.com/web/assets/meganav/au/sale_10_au.webp\"/>,\n",
       " <img alt=\"item listed by jordanrebbeck\" class=\"sc-gktrKs hfVRUZ\" height=\"245\" loading=\"eager\" sizes=\"\n",
       "       (max-width: 576px) 150px,\n",
       "       (max-width: 1024px) 245px,\n",
       "       (min-width: 1024px) 220px\" src=\"https://media-photos.depop.com/b1/8105044/1614426308_a250c0c388514e97844e766302746424/P8.jpg\" srcset=\"https://media-photos.depop.com/b1/8105044/1614426308_a250c0c388514e97844e766302746424/P2.jpg 150w, https://media-photos.depop.com/b1/8105044/1614426308_a250c0c388514e97844e766302746424/P4.jpg 210w, https://media-photos.depop.com/b1/8105044/1614426308_a250c0c388514e97844e766302746424/P5.jpg 320w, https://media-photos.depop.com/b1/8105044/1614426308_a250c0c388514e97844e766302746424/P6.jpg 480w, https://media-photos.depop.com/b1/8105044/1614426308_a250c0c388514e97844e766302746424/P1.jpg 640w, https://media-photos.depop.com/b1/8105044/1614426308_a250c0c388514e97844e766302746424/P7.jpg 960w, https://media-photos.depop.com/b1/8105044/1614426308_a250c0c388514e97844e766302746424/P8.jpg 1280w\" width=\"245\"/>,\n",
       " <img alt=\"item listed by jessiburton\" class=\"sc-gktrKs hfVRUZ\" height=\"245\" loading=\"eager\" sizes=\"\n",
       "       (max-width: 576px) 150px,\n",
       "       (max-width: 1024px) 245px,\n",
       "       (min-width: 1024px) 220px\" src=\"https://media-photos.depop.com/b1/39125381/1615171839_118d0c3bf3834aeebb36130097d1babb/P8.jpg\" srcset=\"https://media-photos.depop.com/b1/39125381/1615171839_118d0c3bf3834aeebb36130097d1babb/P2.jpg 150w, https://media-photos.depop.com/b1/39125381/1615171839_118d0c3bf3834aeebb36130097d1babb/P4.jpg 210w, https://media-photos.depop.com/b1/39125381/1615171839_118d0c3bf3834aeebb36130097d1babb/P5.jpg 320w, https://media-photos.depop.com/b1/39125381/1615171839_118d0c3bf3834aeebb36130097d1babb/P6.jpg 480w, https://media-photos.depop.com/b1/39125381/1615171839_118d0c3bf3834aeebb36130097d1babb/P1.jpg 640w, https://media-photos.depop.com/b1/39125381/1615171839_118d0c3bf3834aeebb36130097d1babb/P7.jpg 960w, https://media-photos.depop.com/b1/39125381/1615171839_118d0c3bf3834aeebb36130097d1babb/P8.jpg 1280w\" width=\"245\"/>,\n",
       " <img alt=\"item listed by briannathrossell\" class=\"sc-gktrKs hfVRUZ\" height=\"245\" loading=\"eager\" sizes=\"\n",
       "       (max-width: 576px) 150px,\n",
       "       (max-width: 1024px) 245px,\n",
       "       (min-width: 1024px) 220px\" src=\"https://media-photos.depop.com/b1/31901785/1607825169_97a702e7b036491bba70782aa27ef7d7/P8.jpg\" srcset=\"https://media-photos.depop.com/b1/31901785/1607825169_97a702e7b036491bba70782aa27ef7d7/P2.jpg 150w, https://media-photos.depop.com/b1/31901785/1607825169_97a702e7b036491bba70782aa27ef7d7/P4.jpg 210w, https://media-photos.depop.com/b1/31901785/1607825169_97a702e7b036491bba70782aa27ef7d7/P5.jpg 320w, https://media-photos.depop.com/b1/31901785/1607825169_97a702e7b036491bba70782aa27ef7d7/P6.jpg 480w, https://media-photos.depop.com/b1/31901785/1607825169_97a702e7b036491bba70782aa27ef7d7/P1.jpg 640w, https://media-photos.depop.com/b1/31901785/1607825169_97a702e7b036491bba70782aa27ef7d7/P7.jpg 960w, https://media-photos.depop.com/b1/31901785/1607825169_97a702e7b036491bba70782aa27ef7d7/P8.jpg 1280w\" width=\"245\"/>,\n",
       " <img alt=\"item listed by catherine_forde\" class=\"sc-gktrKs hfVRUZ\" height=\"245\" loading=\"eager\" sizes=\"\n",
       "       (max-width: 576px) 150px,\n",
       "       (max-width: 1024px) 245px,\n",
       "       (min-width: 1024px) 220px\" src=\"https://media-photos.depop.com/b1/43209856/1609526041_1989bf4609cb4083acf44023e225791c/P8.jpg\" srcset=\"https://media-photos.depop.com/b1/43209856/1609526041_1989bf4609cb4083acf44023e225791c/P2.jpg 150w, https://media-photos.depop.com/b1/43209856/1609526041_1989bf4609cb4083acf44023e225791c/P4.jpg 210w, https://media-photos.depop.com/b1/43209856/1609526041_1989bf4609cb4083acf44023e225791c/P5.jpg 320w, https://media-photos.depop.com/b1/43209856/1609526041_1989bf4609cb4083acf44023e225791c/P6.jpg 480w, https://media-photos.depop.com/b1/43209856/1609526041_1989bf4609cb4083acf44023e225791c/P1.jpg 640w, https://media-photos.depop.com/b1/43209856/1609526041_1989bf4609cb4083acf44023e225791c/P7.jpg 960w, https://media-photos.depop.com/b1/43209856/1609526041_1989bf4609cb4083acf44023e225791c/P8.jpg 1280w\" width=\"245\"/>,\n",
       " <img alt=\"item listed by secondhandapril\" class=\"sc-gktrKs hfVRUZ\" height=\"245\" loading=\"eager\" sizes=\"\n",
       "       (max-width: 576px) 150px,\n",
       "       (max-width: 1024px) 245px,\n",
       "       (min-width: 1024px) 220px\" src=\"https://media-photos.depop.com/b1/26483113/1616568521_50ca59bc85ca40169f379edeab08686f/P8.jpg\" srcset=\"https://media-photos.depop.com/b1/26483113/1616568521_50ca59bc85ca40169f379edeab08686f/P2.jpg 150w, https://media-photos.depop.com/b1/26483113/1616568521_50ca59bc85ca40169f379edeab08686f/P4.jpg 210w, https://media-photos.depop.com/b1/26483113/1616568521_50ca59bc85ca40169f379edeab08686f/P5.jpg 320w, https://media-photos.depop.com/b1/26483113/1616568521_50ca59bc85ca40169f379edeab08686f/P6.jpg 480w, https://media-photos.depop.com/b1/26483113/1616568521_50ca59bc85ca40169f379edeab08686f/P1.jpg 640w, https://media-photos.depop.com/b1/26483113/1616568521_50ca59bc85ca40169f379edeab08686f/P7.jpg 960w, https://media-photos.depop.com/b1/26483113/1616568521_50ca59bc85ca40169f379edeab08686f/P8.jpg 1280w\" width=\"245\"/>,\n",
       " <img alt=\"item listed by queen_jada94\" class=\"sc-gktrKs hfVRUZ\" height=\"245\" loading=\"eager\" sizes=\"\n",
       "       (max-width: 576px) 150px,\n",
       "       (max-width: 1024px) 245px,\n",
       "       (min-width: 1024px) 220px\" src=\"https://media-photos.depop.com/b1/15283131/1604354583_45abb6dcd1ed4639aff69a75d4bee64d/P8.jpg\" srcset=\"https://media-photos.depop.com/b1/15283131/1604354583_45abb6dcd1ed4639aff69a75d4bee64d/P2.jpg 150w, https://media-photos.depop.com/b1/15283131/1604354583_45abb6dcd1ed4639aff69a75d4bee64d/P4.jpg 210w, https://media-photos.depop.com/b1/15283131/1604354583_45abb6dcd1ed4639aff69a75d4bee64d/P5.jpg 320w, https://media-photos.depop.com/b1/15283131/1604354583_45abb6dcd1ed4639aff69a75d4bee64d/P6.jpg 480w, https://media-photos.depop.com/b1/15283131/1604354583_45abb6dcd1ed4639aff69a75d4bee64d/P1.jpg 640w, https://media-photos.depop.com/b1/15283131/1604354583_45abb6dcd1ed4639aff69a75d4bee64d/P7.jpg 960w, https://media-photos.depop.com/b1/15283131/1604354583_45abb6dcd1ed4639aff69a75d4bee64d/P8.jpg 1280w\" width=\"245\"/>,\n",
       " <img alt=\"item listed by jacintacahill\" class=\"sc-gktrKs hfVRUZ\" height=\"245\" loading=\"eager\" sizes=\"\n",
       "       (max-width: 576px) 150px,\n",
       "       (max-width: 1024px) 245px,\n",
       "       (min-width: 1024px) 220px\" src=\"https://media-photos.depop.com/b1/26714588/1616700397_22084ac6190d4301bbaea05512a7b650/P8.jpg\" srcset=\"https://media-photos.depop.com/b1/26714588/1616700397_22084ac6190d4301bbaea05512a7b650/P2.jpg 150w, https://media-photos.depop.com/b1/26714588/1616700397_22084ac6190d4301bbaea05512a7b650/P4.jpg 210w, https://media-photos.depop.com/b1/26714588/1616700397_22084ac6190d4301bbaea05512a7b650/P5.jpg 320w, https://media-photos.depop.com/b1/26714588/1616700397_22084ac6190d4301bbaea05512a7b650/P6.jpg 480w, https://media-photos.depop.com/b1/26714588/1616700397_22084ac6190d4301bbaea05512a7b650/P1.jpg 640w, https://media-photos.depop.com/b1/26714588/1616700397_22084ac6190d4301bbaea05512a7b650/P7.jpg 960w, https://media-photos.depop.com/b1/26714588/1616700397_22084ac6190d4301bbaea05512a7b650/P8.jpg 1280w\" width=\"245\"/>,\n",
       " <img alt=\"item listed by georgiaerj\" class=\"sc-gktrKs hfVRUZ\" height=\"245\" loading=\"eager\" sizes=\"\n",
       "       (max-width: 576px) 150px,\n",
       "       (max-width: 1024px) 245px,\n",
       "       (min-width: 1024px) 220px\" src=\"https://media-photos.depop.com/b1/17806941/1616033555_73cef157bc7c4fcc9c5d6edda3cf7e14/P8.jpg\" srcset=\"https://media-photos.depop.com/b1/17806941/1616033555_73cef157bc7c4fcc9c5d6edda3cf7e14/P2.jpg 150w, https://media-photos.depop.com/b1/17806941/1616033555_73cef157bc7c4fcc9c5d6edda3cf7e14/P4.jpg 210w, https://media-photos.depop.com/b1/17806941/1616033555_73cef157bc7c4fcc9c5d6edda3cf7e14/P5.jpg 320w, https://media-photos.depop.com/b1/17806941/1616033555_73cef157bc7c4fcc9c5d6edda3cf7e14/P6.jpg 480w, https://media-photos.depop.com/b1/17806941/1616033555_73cef157bc7c4fcc9c5d6edda3cf7e14/P1.jpg 640w, https://media-photos.depop.com/b1/17806941/1616033555_73cef157bc7c4fcc9c5d6edda3cf7e14/P7.jpg 960w, https://media-photos.depop.com/b1/17806941/1616033555_73cef157bc7c4fcc9c5d6edda3cf7e14/P8.jpg 1280w\" width=\"245\"/>,\n",
       " <img alt=\"item listed by emsydney\" class=\"sc-gktrKs hfVRUZ\" height=\"245\" loading=\"lazy\" sizes=\"\n",
       "       (max-width: 576px) 150px,\n",
       "       (max-width: 1024px) 245px,\n",
       "       (min-width: 1024px) 220px\" src=\"https://media-photos.depop.com/b1/26959770/1615936020_53c807b849e74107afb6b4d472fe9d82/P8.jpg\" srcset=\"https://media-photos.depop.com/b1/26959770/1615936020_53c807b849e74107afb6b4d472fe9d82/P2.jpg 150w, https://media-photos.depop.com/b1/26959770/1615936020_53c807b849e74107afb6b4d472fe9d82/P4.jpg 210w, https://media-photos.depop.com/b1/26959770/1615936020_53c807b849e74107afb6b4d472fe9d82/P5.jpg 320w, https://media-photos.depop.com/b1/26959770/1615936020_53c807b849e74107afb6b4d472fe9d82/P6.jpg 480w, https://media-photos.depop.com/b1/26959770/1615936020_53c807b849e74107afb6b4d472fe9d82/P1.jpg 640w, https://media-photos.depop.com/b1/26959770/1615936020_53c807b849e74107afb6b4d472fe9d82/P7.jpg 960w, https://media-photos.depop.com/b1/26959770/1615936020_53c807b849e74107afb6b4d472fe9d82/P8.jpg 1280w\" width=\"245\"/>,\n",
       " <img alt=\"item listed by abbyleeg4\" class=\"sc-gktrKs hfVRUZ\" height=\"245\" loading=\"lazy\" sizes=\"\n",
       "       (max-width: 576px) 150px,\n",
       "       (max-width: 1024px) 245px,\n",
       "       (min-width: 1024px) 220px\" src=\"https://media-photos.depop.com/b1/20576891/1615205162_0eec15849cb2469abea01056313a215b/P8.jpg\" srcset=\"https://media-photos.depop.com/b1/20576891/1615205162_0eec15849cb2469abea01056313a215b/P2.jpg 150w, https://media-photos.depop.com/b1/20576891/1615205162_0eec15849cb2469abea01056313a215b/P4.jpg 210w, https://media-photos.depop.com/b1/20576891/1615205162_0eec15849cb2469abea01056313a215b/P5.jpg 320w, https://media-photos.depop.com/b1/20576891/1615205162_0eec15849cb2469abea01056313a215b/P6.jpg 480w, https://media-photos.depop.com/b1/20576891/1615205162_0eec15849cb2469abea01056313a215b/P1.jpg 640w, https://media-photos.depop.com/b1/20576891/1615205162_0eec15849cb2469abea01056313a215b/P7.jpg 960w, https://media-photos.depop.com/b1/20576891/1615205162_0eec15849cb2469abea01056313a215b/P8.jpg 1280w\" width=\"245\"/>,\n",
       " <img alt=\"item listed by katc95\" class=\"sc-gktrKs hfVRUZ\" height=\"245\" loading=\"lazy\" sizes=\"\n",
       "       (max-width: 576px) 150px,\n",
       "       (max-width: 1024px) 245px,\n",
       "       (min-width: 1024px) 220px\" src=\"https://media-photos.depop.com/b1/24340067/1613528367_c7bf3ac4781e405790e53abbdbc65337/P8.jpg\" srcset=\"https://media-photos.depop.com/b1/24340067/1613528367_c7bf3ac4781e405790e53abbdbc65337/P2.jpg 150w, https://media-photos.depop.com/b1/24340067/1613528367_c7bf3ac4781e405790e53abbdbc65337/P4.jpg 210w, https://media-photos.depop.com/b1/24340067/1613528367_c7bf3ac4781e405790e53abbdbc65337/P5.jpg 320w, https://media-photos.depop.com/b1/24340067/1613528367_c7bf3ac4781e405790e53abbdbc65337/P6.jpg 480w, https://media-photos.depop.com/b1/24340067/1613528367_c7bf3ac4781e405790e53abbdbc65337/P1.jpg 640w, https://media-photos.depop.com/b1/24340067/1613528367_c7bf3ac4781e405790e53abbdbc65337/P7.jpg 960w, https://media-photos.depop.com/b1/24340067/1613528367_c7bf3ac4781e405790e53abbdbc65337/P8.jpg 1280w\" width=\"245\"/>,\n",
       " <img alt=\"item listed by bethanylilleyman\" class=\"sc-gktrKs hfVRUZ\" height=\"245\" loading=\"lazy\" sizes=\"\n",
       "       (max-width: 576px) 150px,\n",
       "       (max-width: 1024px) 245px,\n",
       "       (min-width: 1024px) 220px\" src=\"https://media-photos.depop.com/b1/314521/1612779402_018e4d0c18354db5b079601934ff6acc/P8.jpg\" srcset=\"https://media-photos.depop.com/b1/314521/1612779402_018e4d0c18354db5b079601934ff6acc/P2.jpg 150w, https://media-photos.depop.com/b1/314521/1612779402_018e4d0c18354db5b079601934ff6acc/P4.jpg 210w, https://media-photos.depop.com/b1/314521/1612779402_018e4d0c18354db5b079601934ff6acc/P5.jpg 320w, https://media-photos.depop.com/b1/314521/1612779402_018e4d0c18354db5b079601934ff6acc/P6.jpg 480w, https://media-photos.depop.com/b1/314521/1612779402_018e4d0c18354db5b079601934ff6acc/P1.jpg 640w, https://media-photos.depop.com/b1/314521/1612779402_018e4d0c18354db5b079601934ff6acc/P7.jpg 960w, https://media-photos.depop.com/b1/314521/1612779402_018e4d0c18354db5b079601934ff6acc/P8.jpg 1280w\" width=\"245\"/>,\n",
       " <img alt=\"item listed by katgm5\" class=\"sc-gktrKs hfVRUZ\" height=\"245\" loading=\"lazy\" sizes=\"\n",
       "       (max-width: 576px) 150px,\n",
       "       (max-width: 1024px) 245px,\n",
       "       (min-width: 1024px) 220px\" src=\"https://media-photos.depop.com/b1/43356541/1606188943_97b32e52f6f345d398dc7ed6ffd1dd4d/P8.jpg\" srcset=\"https://media-photos.depop.com/b1/43356541/1606188943_97b32e52f6f345d398dc7ed6ffd1dd4d/P2.jpg 150w, https://media-photos.depop.com/b1/43356541/1606188943_97b32e52f6f345d398dc7ed6ffd1dd4d/P4.jpg 210w, https://media-photos.depop.com/b1/43356541/1606188943_97b32e52f6f345d398dc7ed6ffd1dd4d/P5.jpg 320w, https://media-photos.depop.com/b1/43356541/1606188943_97b32e52f6f345d398dc7ed6ffd1dd4d/P6.jpg 480w, https://media-photos.depop.com/b1/43356541/1606188943_97b32e52f6f345d398dc7ed6ffd1dd4d/P1.jpg 640w, https://media-photos.depop.com/b1/43356541/1606188943_97b32e52f6f345d398dc7ed6ffd1dd4d/P7.jpg 960w, https://media-photos.depop.com/b1/43356541/1606188943_97b32e52f6f345d398dc7ed6ffd1dd4d/P8.jpg 1280w\" width=\"245\"/>,\n",
       " <img alt=\"item listed by claireee123124\" class=\"sc-gktrKs hfVRUZ\" height=\"245\" loading=\"lazy\" sizes=\"\n",
       "       (max-width: 576px) 150px,\n",
       "       (max-width: 1024px) 245px,\n",
       "       (min-width: 1024px) 220px\" src=\"https://media-photos.depop.com/b1/39449764/1614457872_07fab286ab474c419f713973cab0363c/P8.jpg\" srcset=\"https://media-photos.depop.com/b1/39449764/1614457872_07fab286ab474c419f713973cab0363c/P2.jpg 150w, https://media-photos.depop.com/b1/39449764/1614457872_07fab286ab474c419f713973cab0363c/P4.jpg 210w, https://media-photos.depop.com/b1/39449764/1614457872_07fab286ab474c419f713973cab0363c/P5.jpg 320w, https://media-photos.depop.com/b1/39449764/1614457872_07fab286ab474c419f713973cab0363c/P6.jpg 480w, https://media-photos.depop.com/b1/39449764/1614457872_07fab286ab474c419f713973cab0363c/P1.jpg 640w, https://media-photos.depop.com/b1/39449764/1614457872_07fab286ab474c419f713973cab0363c/P7.jpg 960w, https://media-photos.depop.com/b1/39449764/1614457872_07fab286ab474c419f713973cab0363c/P8.jpg 1280w\" width=\"245\"/>,\n",
       " <img alt=\"item listed by atomic_coincidence\" class=\"sc-gktrKs hfVRUZ\" height=\"245\" loading=\"lazy\" sizes=\"\n",
       "       (max-width: 576px) 150px,\n",
       "       (max-width: 1024px) 245px,\n",
       "       (min-width: 1024px) 220px\" src=\"https://media-photos.depop.com/b1/28043954/1615178489_8c021cf3ab134c0ea3d8cb0dc8f4eaef/P8.jpg\" srcset=\"https://media-photos.depop.com/b1/28043954/1615178489_8c021cf3ab134c0ea3d8cb0dc8f4eaef/P2.jpg 150w, https://media-photos.depop.com/b1/28043954/1615178489_8c021cf3ab134c0ea3d8cb0dc8f4eaef/P4.jpg 210w, https://media-photos.depop.com/b1/28043954/1615178489_8c021cf3ab134c0ea3d8cb0dc8f4eaef/P5.jpg 320w, https://media-photos.depop.com/b1/28043954/1615178489_8c021cf3ab134c0ea3d8cb0dc8f4eaef/P6.jpg 480w, https://media-photos.depop.com/b1/28043954/1615178489_8c021cf3ab134c0ea3d8cb0dc8f4eaef/P1.jpg 640w, https://media-photos.depop.com/b1/28043954/1615178489_8c021cf3ab134c0ea3d8cb0dc8f4eaef/P7.jpg 960w, https://media-photos.depop.com/b1/28043954/1615178489_8c021cf3ab134c0ea3d8cb0dc8f4eaef/P8.jpg 1280w\" width=\"245\"/>,\n",
       " <img alt=\"item listed by wheresthisgoing\" class=\"sc-gktrKs hfVRUZ\" height=\"245\" loading=\"lazy\" sizes=\"\n",
       "       (max-width: 576px) 150px,\n",
       "       (max-width: 1024px) 245px,\n",
       "       (min-width: 1024px) 220px\" src=\"https://media-photos.depop.com/b1/36624874/1616684325_6792bf86915a4ce1aafd968e9ca893ef/P8.jpg\" srcset=\"https://media-photos.depop.com/b1/36624874/1616684325_6792bf86915a4ce1aafd968e9ca893ef/P2.jpg 150w, https://media-photos.depop.com/b1/36624874/1616684325_6792bf86915a4ce1aafd968e9ca893ef/P4.jpg 210w, https://media-photos.depop.com/b1/36624874/1616684325_6792bf86915a4ce1aafd968e9ca893ef/P5.jpg 320w, https://media-photos.depop.com/b1/36624874/1616684325_6792bf86915a4ce1aafd968e9ca893ef/P6.jpg 480w, https://media-photos.depop.com/b1/36624874/1616684325_6792bf86915a4ce1aafd968e9ca893ef/P1.jpg 640w, https://media-photos.depop.com/b1/36624874/1616684325_6792bf86915a4ce1aafd968e9ca893ef/P7.jpg 960w, https://media-photos.depop.com/b1/36624874/1616684325_6792bf86915a4ce1aafd968e9ca893ef/P8.jpg 1280w\" width=\"245\"/>,\n",
       " <img alt=\"item listed by stephdaniell\" class=\"sc-gktrKs hfVRUZ\" height=\"245\" loading=\"lazy\" sizes=\"\n",
       "       (max-width: 576px) 150px,\n",
       "       (max-width: 1024px) 245px,\n",
       "       (min-width: 1024px) 220px\" src=\"https://media-photos.depop.com/b1/37465349/1615884207_5107bc6fd0854136b5e1f46f10ddbb75/P8.jpg\" srcset=\"https://media-photos.depop.com/b1/37465349/1615884207_5107bc6fd0854136b5e1f46f10ddbb75/P2.jpg 150w, https://media-photos.depop.com/b1/37465349/1615884207_5107bc6fd0854136b5e1f46f10ddbb75/P4.jpg 210w, https://media-photos.depop.com/b1/37465349/1615884207_5107bc6fd0854136b5e1f46f10ddbb75/P5.jpg 320w, https://media-photos.depop.com/b1/37465349/1615884207_5107bc6fd0854136b5e1f46f10ddbb75/P6.jpg 480w, https://media-photos.depop.com/b1/37465349/1615884207_5107bc6fd0854136b5e1f46f10ddbb75/P1.jpg 640w, https://media-photos.depop.com/b1/37465349/1615884207_5107bc6fd0854136b5e1f46f10ddbb75/P7.jpg 960w, https://media-photos.depop.com/b1/37465349/1615884207_5107bc6fd0854136b5e1f46f10ddbb75/P8.jpg 1280w\" width=\"245\"/>,\n",
       " <img alt=\"item listed by biancaneal\" class=\"sc-gktrKs hfVRUZ\" height=\"245\" loading=\"lazy\" sizes=\"\n",
       "       (max-width: 576px) 150px,\n",
       "       (max-width: 1024px) 245px,\n",
       "       (min-width: 1024px) 220px\" src=\"https://media-photos.depop.com/b1/13159759/1616519965_ba0b38c478f047749b0e74e452cd29f5/P8.jpg\" srcset=\"https://media-photos.depop.com/b1/13159759/1616519965_ba0b38c478f047749b0e74e452cd29f5/P2.jpg 150w, https://media-photos.depop.com/b1/13159759/1616519965_ba0b38c478f047749b0e74e452cd29f5/P4.jpg 210w, https://media-photos.depop.com/b1/13159759/1616519965_ba0b38c478f047749b0e74e452cd29f5/P5.jpg 320w, https://media-photos.depop.com/b1/13159759/1616519965_ba0b38c478f047749b0e74e452cd29f5/P6.jpg 480w, https://media-photos.depop.com/b1/13159759/1616519965_ba0b38c478f047749b0e74e452cd29f5/P1.jpg 640w, https://media-photos.depop.com/b1/13159759/1616519965_ba0b38c478f047749b0e74e452cd29f5/P7.jpg 960w, https://media-photos.depop.com/b1/13159759/1616519965_ba0b38c478f047749b0e74e452cd29f5/P8.jpg 1280w\" width=\"245\"/>,\n",
       " <img alt=\"item listed by seakittens\" class=\"sc-gktrKs hfVRUZ\" height=\"245\" loading=\"lazy\" sizes=\"\n",
       "       (max-width: 576px) 150px,\n",
       "       (max-width: 1024px) 245px,\n",
       "       (min-width: 1024px) 220px\" src=\"https://media-photos.depop.com/b1/23794329/1615897532_46d1b8cc5b9047fd9bd7b9db8c80b555/P8.jpg\" srcset=\"https://media-photos.depop.com/b1/23794329/1615897532_46d1b8cc5b9047fd9bd7b9db8c80b555/P2.jpg 150w, https://media-photos.depop.com/b1/23794329/1615897532_46d1b8cc5b9047fd9bd7b9db8c80b555/P4.jpg 210w, https://media-photos.depop.com/b1/23794329/1615897532_46d1b8cc5b9047fd9bd7b9db8c80b555/P5.jpg 320w, https://media-photos.depop.com/b1/23794329/1615897532_46d1b8cc5b9047fd9bd7b9db8c80b555/P6.jpg 480w, https://media-photos.depop.com/b1/23794329/1615897532_46d1b8cc5b9047fd9bd7b9db8c80b555/P1.jpg 640w, https://media-photos.depop.com/b1/23794329/1615897532_46d1b8cc5b9047fd9bd7b9db8c80b555/P7.jpg 960w, https://media-photos.depop.com/b1/23794329/1615897532_46d1b8cc5b9047fd9bd7b9db8c80b555/P8.jpg 1280w\" width=\"245\"/>,\n",
       " <img alt=\"item listed by lilyburkwood\" class=\"sc-gktrKs hfVRUZ\" height=\"245\" loading=\"lazy\" sizes=\"\n",
       "       (max-width: 576px) 150px,\n",
       "       (max-width: 1024px) 245px,\n",
       "       (min-width: 1024px) 220px\" src=\"https://media-photos.depop.com/b1/43548552/1615945088_4f3790da944345d189ae3eb55de8464d/P8.jpg\" srcset=\"https://media-photos.depop.com/b1/43548552/1615945088_4f3790da944345d189ae3eb55de8464d/P2.jpg 150w, https://media-photos.depop.com/b1/43548552/1615945088_4f3790da944345d189ae3eb55de8464d/P4.jpg 210w, https://media-photos.depop.com/b1/43548552/1615945088_4f3790da944345d189ae3eb55de8464d/P5.jpg 320w, https://media-photos.depop.com/b1/43548552/1615945088_4f3790da944345d189ae3eb55de8464d/P6.jpg 480w, https://media-photos.depop.com/b1/43548552/1615945088_4f3790da944345d189ae3eb55de8464d/P1.jpg 640w, https://media-photos.depop.com/b1/43548552/1615945088_4f3790da944345d189ae3eb55de8464d/P7.jpg 960w, https://media-photos.depop.com/b1/43548552/1615945088_4f3790da944345d189ae3eb55de8464d/P8.jpg 1280w\" width=\"245\"/>,\n",
       " <img alt=\"item listed by bellaspag\" class=\"sc-gktrKs hfVRUZ\" height=\"245\" loading=\"lazy\" sizes=\"\n",
       "       (max-width: 576px) 150px,\n",
       "       (max-width: 1024px) 245px,\n",
       "       (min-width: 1024px) 220px\" src=\"https://media-photos.depop.com/b1/9887694/1615854307_cd247ea232db46238da7570e002988f1/P8.jpg\" srcset=\"https://media-photos.depop.com/b1/9887694/1615854307_cd247ea232db46238da7570e002988f1/P2.jpg 150w, https://media-photos.depop.com/b1/9887694/1615854307_cd247ea232db46238da7570e002988f1/P4.jpg 210w, https://media-photos.depop.com/b1/9887694/1615854307_cd247ea232db46238da7570e002988f1/P5.jpg 320w, https://media-photos.depop.com/b1/9887694/1615854307_cd247ea232db46238da7570e002988f1/P6.jpg 480w, https://media-photos.depop.com/b1/9887694/1615854307_cd247ea232db46238da7570e002988f1/P1.jpg 640w, https://media-photos.depop.com/b1/9887694/1615854307_cd247ea232db46238da7570e002988f1/P7.jpg 960w, https://media-photos.depop.com/b1/9887694/1615854307_cd247ea232db46238da7570e002988f1/P8.jpg 1280w\" width=\"245\"/>,\n",
       " <img alt=\"item listed by gorto1\" class=\"sc-gktrKs hfVRUZ\" height=\"245\" loading=\"lazy\" sizes=\"\n",
       "       (max-width: 576px) 150px,\n",
       "       (max-width: 1024px) 245px,\n",
       "       (min-width: 1024px) 220px\" src=\"https://media-photos.depop.com/b1/33385902/1615223732_c070cea3dcfb4e1b9d943a5f8ef22540/P8.jpg\" srcset=\"https://media-photos.depop.com/b1/33385902/1615223732_c070cea3dcfb4e1b9d943a5f8ef22540/P2.jpg 150w, https://media-photos.depop.com/b1/33385902/1615223732_c070cea3dcfb4e1b9d943a5f8ef22540/P4.jpg 210w, https://media-photos.depop.com/b1/33385902/1615223732_c070cea3dcfb4e1b9d943a5f8ef22540/P5.jpg 320w, https://media-photos.depop.com/b1/33385902/1615223732_c070cea3dcfb4e1b9d943a5f8ef22540/P6.jpg 480w, https://media-photos.depop.com/b1/33385902/1615223732_c070cea3dcfb4e1b9d943a5f8ef22540/P1.jpg 640w, https://media-photos.depop.com/b1/33385902/1615223732_c070cea3dcfb4e1b9d943a5f8ef22540/P7.jpg 960w, https://media-photos.depop.com/b1/33385902/1615223732_c070cea3dcfb4e1b9d943a5f8ef22540/P8.jpg 1280w\" width=\"245\"/>,\n",
       " <img alt=\"item listed by madlack7\" class=\"sc-gktrKs hfVRUZ\" height=\"245\" loading=\"lazy\" sizes=\"\n",
       "       (max-width: 576px) 150px,\n",
       "       (max-width: 1024px) 245px,\n",
       "       (min-width: 1024px) 220px\" src=\"https://media-photos.depop.com/b1/16832837/1616594780_b575ca34435f41438869a0e5359e5d77/P8.jpg\" srcset=\"https://media-photos.depop.com/b1/16832837/1616594780_b575ca34435f41438869a0e5359e5d77/P2.jpg 150w, https://media-photos.depop.com/b1/16832837/1616594780_b575ca34435f41438869a0e5359e5d77/P4.jpg 210w, https://media-photos.depop.com/b1/16832837/1616594780_b575ca34435f41438869a0e5359e5d77/P5.jpg 320w, https://media-photos.depop.com/b1/16832837/1616594780_b575ca34435f41438869a0e5359e5d77/P6.jpg 480w, https://media-photos.depop.com/b1/16832837/1616594780_b575ca34435f41438869a0e5359e5d77/P1.jpg 640w, https://media-photos.depop.com/b1/16832837/1616594780_b575ca34435f41438869a0e5359e5d77/P7.jpg 960w, https://media-photos.depop.com/b1/16832837/1616594780_b575ca34435f41438869a0e5359e5d77/P8.jpg 1280w\" width=\"245\"/>,\n",
       " <img alt=\"item listed by hiddentreasuresoz\" class=\"sc-gktrKs hfVRUZ\" height=\"245\" loading=\"lazy\" sizes=\"\n",
       "       (max-width: 576px) 150px,\n",
       "       (max-width: 1024px) 245px,\n",
       "       (min-width: 1024px) 220px\" src=\"https://media-photos.depop.com/b1/43339126/1615239358_486a90595fa049e38d8a13e569ddf238/P8.jpg\" srcset=\"https://media-photos.depop.com/b1/43339126/1615239358_486a90595fa049e38d8a13e569ddf238/P2.jpg 150w, https://media-photos.depop.com/b1/43339126/1615239358_486a90595fa049e38d8a13e569ddf238/P4.jpg 210w, https://media-photos.depop.com/b1/43339126/1615239358_486a90595fa049e38d8a13e569ddf238/P5.jpg 320w, https://media-photos.depop.com/b1/43339126/1615239358_486a90595fa049e38d8a13e569ddf238/P6.jpg 480w, https://media-photos.depop.com/b1/43339126/1615239358_486a90595fa049e38d8a13e569ddf238/P1.jpg 640w, https://media-photos.depop.com/b1/43339126/1615239358_486a90595fa049e38d8a13e569ddf238/P7.jpg 960w, https://media-photos.depop.com/b1/43339126/1615239358_486a90595fa049e38d8a13e569ddf238/P8.jpg 1280w\" width=\"245\"/>]"
      ]
     },
     "execution_count": 17,
     "metadata": {},
     "output_type": "execute_result"
    }
   ],
   "source": [
    "A.soup.find_all('img')"
   ]
  },
  {
   "cell_type": "code",
   "execution_count": null,
   "metadata": {},
   "outputs": [],
   "source": []
  }
 ],
 "metadata": {
  "kernelspec": {
   "display_name": "sandbox-dev",
   "language": "python",
   "name": "python3"
  },
  "language_info": {
   "codemirror_mode": {
    "name": "ipython",
    "version": 3
   },
   "file_extension": ".py",
   "mimetype": "text/x-python",
   "name": "python",
   "nbconvert_exporter": "python",
   "pygments_lexer": "ipython3",
   "version": "3.9.16"
  },
  "orig_nbformat": 4
 },
 "nbformat": 4,
 "nbformat_minor": 2
}
